{
  "nbformat": 4,
  "nbformat_minor": 0,
  "metadata": {
    "colab": {
      "provenance": []
    },
    "kernelspec": {
      "name": "python3",
      "display_name": "Python 3"
    },
    "language_info": {
      "name": "python"
    }
  },
  "cells": [
    {
      "cell_type": "markdown",
      "source": [
        "#CLASE MACHINE lEARNING\n",
        "##Taller 1\n",
        "###Anggie Reyes"
      ],
      "metadata": {
        "id": "KQ4LzxY3APz2"
      }
    },
    {
      "cell_type": "code",
      "source": [
        "def suma_div(a:int, b:int, c:int):\n",
        "  if type (a) == int and type(b) == int and type(c) == int:\n",
        "    suma = a + b\n",
        "    if c==0:\n",
        "     print(f\"el numero {c}no puede ser 0\")\n",
        "    else:\n",
        "      div = suma / c\n",
        "      print(div)\n",
        "  else:\n",
        "    print(f\"los datos ingresados deben ser enteros \")"
      ],
      "metadata": {
        "id": "2J5jbQov-XwA"
      },
      "execution_count": 13,
      "outputs": []
    },
    {
      "cell_type": "code",
      "source": [
        "suma_div(\"a\",4,5)"
      ],
      "metadata": {
        "colab": {
          "base_uri": "https://localhost:8080/"
        },
        "id": "TWmMzajA_ID2",
        "outputId": "f2fbbb84-bcb9-49de-ff25-78498eae3d9a"
      },
      "execution_count": 14,
      "outputs": [
        {
          "output_type": "stream",
          "name": "stdout",
          "text": [
            "los datos ingresados deben ser enteros \n"
          ]
        }
      ]
    },
    {
      "cell_type": "code",
      "source": [
        "suma_div(a,b,c)"
      ],
      "metadata": {
        "colab": {
          "base_uri": "https://localhost:8080/"
        },
        "id": "aOmJnFTu_xyd",
        "outputId": "7ab8d361-d8f8-4a70-951b-dc59cc737c29"
      },
      "execution_count": 15,
      "outputs": [
        {
          "output_type": "stream",
          "name": "stdout",
          "text": [
            "1.75\n"
          ]
        }
      ]
    }
  ]
}